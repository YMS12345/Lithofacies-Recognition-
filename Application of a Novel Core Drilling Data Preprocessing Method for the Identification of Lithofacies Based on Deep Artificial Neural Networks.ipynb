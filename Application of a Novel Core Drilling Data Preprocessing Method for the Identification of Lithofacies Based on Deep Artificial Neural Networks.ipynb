{
 "cells": [
  {
   "cell_type": "code",
   "execution_count": 1,
   "id": "cce6ba08",
   "metadata": {},
   "outputs": [],
   "source": [
    "import pandas as pd\n",
    "import numpy as np\n",
    "import matplotlib.pyplot as plt\n",
    "import time\n",
    "import datetime\n",
    "from dnn_utils_v2 import sigmoid, sigmoid_backward, relu, relu_backward \n",
    "from dnn_app_utils_v2 import *\n"
   ]
  },
  {
   "cell_type": "markdown",
   "id": "5851df7d",
   "metadata": {},
   "source": []
  },
  {
   "cell_type": "code",
   "execution_count": 2,
   "id": "286e10a8",
   "metadata": {},
   "outputs": [],
   "source": [
    "def buliding_training_set(N):\n",
    "    x_dataframe = pd.DataFrame()\n",
    "    y_ndarray = np.empty((1, N),dtype = int)\n",
    "    for i in range(1, N + 1):\n",
    "        data_dict = pd.read_excel('training_dataset.xlsx', sheet_name = \"Sheet\" + str(i), nrows = 4900)\n",
    "        x1 = data_dict.iloc[:, 0]\n",
    "        x2 = data_dict.iloc[:, 1]\n",
    "        x3 = data_dict.iloc[:, 2]\n",
    "        x_data = pd.concat([x1, x2, x3])\n",
    "        x_dataframe = pd.concat([x_dataframe, x_data], axis = 1)\n",
    "        y = data_dict.iloc[0, 3]\n",
    "        y_ndarray[0,i - 1] = y\n",
    "\n",
    "    x_ndarray = x_dataframe.values\n",
    "    \n",
    "    assert (x_ndarray.shape == (3 * data_dict.shape[0], N))\n",
    "    assert (y_ndarray.shape == (1, N))\n",
    "    \n",
    "    return x_ndarray, y_ndarray"
   ]
  },
  {
   "cell_type": "code",
   "execution_count": 3,
   "id": "7d759920",
   "metadata": {},
   "outputs": [
    {
     "name": "stdout",
     "output_type": "stream",
     "text": [
      "Training Set Dimension:(14700, 32)\n",
      "Number of training set samples：32\n"
     ]
    }
   ],
   "source": [
    "#Training dataset\n",
    "N = 32\n",
    "x_ndarray, y_ndarray = buliding_training_set(N)\n",
    "\n",
    "#Normalization\n",
    "train_x = x_ndarray / np.max(x_ndarray)\n",
    "train_y = y_ndarray\n",
    "\n",
    "print(\"Training set dimension:\" + str(train_x.shape))\n",
    "print(\"Number of training set samples：\" + str(train_x.shape[1]))"
   ]
  },
  {
   "cell_type": "code",
   "execution_count": 7,
   "id": "69b5a122",
   "metadata": {},
   "outputs": [],
   "source": [
    "#DANNs \n",
    "\n",
    "def initialize_parameters_deep(layer_dims):\n",
    "    \n",
    "    parameters = {}\n",
    "    L = len(layer_dims)\n",
    "    \n",
    "    for i in range(1, L):\n",
    "        np.random.seed(1)\n",
    "        parameters['W' + str(i)] = np.random.randn(layer_dims[i], layer_dims[i - 1]) / np.sqrt(layers_dims[i - 1])\n",
    "        parameters[\"b\" + str(i)] = np.zeros((layer_dims[i], 1))\n",
    "        \n",
    "        assert((layer_dims[i], layer_dims[i - 1]) == parameters[\"W\" + str(i)].shape)\n",
    "        assert((layer_dims[i], 1) == parameters[\"b\" + str(i)].shape)\n",
    "        \n",
    "    return parameters\n",
    "\n",
    "def L_model_forward(X, parameters):\n",
    "    caches = []\n",
    "    A = X\n",
    "    L = len(parameters) // 2\n",
    "    for i in range(1, L):\n",
    "        A_prev = A\n",
    "        A, cache = linear_activation_forward(A_prev, parameters[\"W\" + str(i)], parameters[\"b\" + str(i)], \"relu\")\n",
    "        caches.append(cache)\n",
    "        \n",
    "    AL, cache = linear_activation_forward(A, parameters[\"W\" + str(L)], parameters[\"b\" + str(L)], \"sigmoid\")\n",
    "    caches.append(cache)\n",
    "    \n",
    "    assert(AL.shape == (1, X.shape[1]))\n",
    "    \n",
    "    return AL, caches\n",
    "\n",
    "def compute_cost(AL, Y):\n",
    "    m = Y.shape[1]\n",
    "    \n",
    "    cost = -(np.dot(np.log(AL), Y.T) + np.dot(np.log(1 - AL), (1 - Y).T)) / (m * 1.0)\n",
    "    cost = np.squeeze(cost)\n",
    "\n",
    "    assert(cost.shape == ( ))\n",
    "    return cost\n",
    "\n",
    "def L_model_backward(AL, Y, caches):\n",
    "    grads = {}\n",
    "    L = len(caches)\n",
    "    m = AL.shape[1]\n",
    "    Y = Y.reshape(AL.shape)\n",
    "    \n",
    "    dAL = -(np.divide(Y, AL) - np.divide(1 - Y, 1 - AL))\n",
    "    \n",
    "    current_cache = caches[L - 1]\n",
    "    grads[\"dA\" + str(L)], grads[\"dW\" + str(L)], grads[\"db\" + str(L)] = linear_activation_backward(dAL, current_cache, activation=\"sigmoid\")\n",
    "    \n",
    "    for i in reversed(range(L - 1)):\n",
    "        current_cache = caches[i]\n",
    "        dA_prev_temp, dW_temp, db_temp = linear_activation_backward(grads[\"dA\" + str(i + 2)], current_cache, activation=\"relu\")\n",
    "        grads[\"dA\" + str(i + 1)] = dA_prev_temp\n",
    "        grads[\"dW\" + str(i + 1)] = dW_temp\n",
    "        grads[\"db\" + str(i + 1)] = db_temp\n",
    "        \n",
    "    return grads\n",
    "\n",
    "def update_parameters(parameters, grads, learning_rate):\n",
    "    \n",
    "    L = len(parameters) // 2\n",
    "    for i in range(1, L + 1):\n",
    "        parameters[\"W\" + str(i)] -= learning_rate * grads[\"dW\" + str(i)]\n",
    "        parameters[\"b\" + str(i)] -= learning_rate * grads[\"db\" + str(i)]\n",
    "    \n",
    "    return parameters"
   ]
  },
  {
   "cell_type": "code",
   "execution_count": 5,
   "id": "24a75974",
   "metadata": {},
   "outputs": [],
   "source": [
    "def L_layer_model(X, Y, layers_dims, learning_rate = 0.0020, num_iterations = 20000, print_cost = False):\n",
    "\n",
    "    costs = []\n",
    "\n",
    "    parameters = initialize_parameters_deep(layers_dims)\n",
    "\n",
    "    for i in range(0, num_iterations):\n",
    "\n",
    "        AL, caches = L_model_forward(X, parameters)\n",
    "\n",
    "        cost = compute_cost(AL, Y)\n",
    "\n",
    "        grads = L_model_backward(AL, Y, caches)\n",
    "\n",
    "\n",
    "        parameters = update_parameters(parameters, grads, learning_rate)\n",
    "\n",
    "        if print_cost and i % 500 == 0:\n",
    "            print (\"iterations %i，cost: %f\" %(i, cost))\n",
    "        if print_cost and i % 1 == 0:\n",
    "            costs.append(cost)\n",
    "        if i > 1 and i % (num_iterations - 1) == 0:\n",
    "            print(\"final cost = %f\" %(cost))\n",
    "            \n",
    "    plt.plot(np.squeeze(costs))\n",
    "    plt.ylabel('cost')\n",
    "    plt.xlabel('iterations')\n",
    "    plt.title(\"Learning rate =\" + str(learning_rate))\n",
    "    plt.show()\n",
    "    \n",
    "    return parameters, costs"
   ]
  },
  {
   "cell_type": "code",
   "execution_count": 8,
   "id": "c7fc277c",
   "metadata": {
    "scrolled": true
   },
   "outputs": [
    {
     "name": "stdout",
     "output_type": "stream",
     "text": [
      "iterations 0，cost: 0.701704\n",
      "iterations 500，cost: 0.395068\n",
      "iterations 1000，cost: 0.338248\n",
      "iterations 1500，cost: 0.323914\n",
      "iterations 2000，cost: 0.316907\n",
      "iterations 2500，cost: 0.315263\n",
      "iterations 3000，cost: 0.313899\n",
      "iterations 3500，cost: 0.313695\n",
      "iterations 4000，cost: 0.313685\n",
      "iterations 4500，cost: 0.313382\n",
      "iterations 5000，cost: 0.313123\n",
      "iterations 5500，cost: 0.313204\n",
      "iterations 6000，cost: 0.313073\n",
      "iterations 6500，cost: 0.313070\n",
      "iterations 7000，cost: 0.312974\n",
      "iterations 7500，cost: 0.313077\n",
      "iterations 8000，cost: 0.312989\n",
      "iterations 8500，cost: 0.312991\n",
      "iterations 9000，cost: 0.313035\n",
      "iterations 9500，cost: 0.312972\n",
      "iterations 10000，cost: 0.312890\n",
      "iterations 10500，cost: 0.313044\n",
      "iterations 11000，cost: 0.312862\n",
      "iterations 11500，cost: 0.312853\n",
      "iterations 12000，cost: 0.312845\n",
      "iterations 12500，cost: 0.312879\n",
      "iterations 13000，cost: 0.312843\n",
      "iterations 13500，cost: 0.312859\n",
      "iterations 14000，cost: 0.312826\n",
      "iterations 14500，cost: 0.312841\n",
      "iterations 15000，cost: 0.312843\n",
      "iterations 15500，cost: 0.312828\n",
      "iterations 16000，cost: 0.312838\n",
      "iterations 16500，cost: 0.312868\n",
      "iterations 17000，cost: 0.312837\n",
      "iterations 17500，cost: 0.312870\n",
      "iterations 18000，cost: 0.312819\n",
      "iterations 18500，cost: 0.312805\n",
      "iterations 19000，cost: 0.312807\n",
      "iterations 19500，cost: 0.312803\n",
      "final cost = 0.312837\n"
     ]
    },
    {
     "data": {
      "image/png": "[encoded data removed]",
      "text/plain": [
       "<Figure size 432x288 with 1 Axes>"
      ]
     },
     "metadata": {
      "needs_background": "light"
     },
     "output_type": "display_data"
    },
    {
     "name": "stdout",
     "output_type": "stream",
     "text": [
      "Time Used：0:00:51.281754\n",
      "iterations 0，cost: 0.701704\n",
      "iterations 500，cost: 0.204705\n",
      "iterations 1000，cost: 0.117280\n",
      "iterations 1500，cost: 0.088542\n",
      "iterations 2000，cost: 0.069946\n",
      "iterations 2500，cost: 0.055232\n",
      "iterations 3000，cost: 0.043991\n",
      "iterations 3500，cost: 0.036303\n",
      "iterations 4000，cost: 0.029770\n",
      "iterations 4500，cost: 0.025204\n",
      "iterations 5000，cost: 0.021361\n",
      "iterations 5500，cost: 0.018304\n",
      "iterations 6000，cost: 0.015850\n",
      "iterations 6500，cost: 0.014021\n",
      "iterations 7000，cost: 0.012392\n",
      "iterations 7500，cost: 0.011034\n",
      "iterations 8000，cost: 0.009872\n",
      "iterations 8500，cost: 0.008970\n",
      "iterations 9000，cost: 0.008110\n",
      "iterations 9500，cost: 0.007447\n",
      "iterations 10000，cost: 0.006843\n",
      "iterations 10500，cost: 0.006292\n",
      "iterations 11000，cost: 0.005849\n",
      "iterations 11500，cost: 0.005420\n",
      "iterations 12000，cost: 0.005060\n",
      "iterations 12500，cost: 0.004742\n",
      "iterations 13000，cost: 0.004440\n",
      "iterations 13500，cost: 0.004179\n",
      "iterations 14000，cost: 0.003942\n",
      "iterations 14500，cost: 0.003721\n",
      "iterations 15000，cost: 0.003527\n",
      "iterations 15500，cost: 0.003349\n",
      "iterations 16000，cost: 0.003188\n",
      "iterations 16500，cost: 0.003039\n",
      "iterations 17000，cost: 0.002896\n",
      "iterations 17500，cost: 0.002769\n",
      "iterations 18000，cost: 0.002647\n",
      "iterations 18500，cost: 0.002534\n",
      "iterations 19000，cost: 0.002436\n",
      "iterations 19500，cost: 0.002337\n",
      "final cost = 0.002251\n"
     ]
    },
    {
     "data": {
      "image/png": "[encoded data removed]",
      "text/plain": [
       "<Figure size 432x288 with 1 Axes>"
      ]
     },
     "metadata": {
      "needs_background": "light"
     },
     "output_type": "display_data"
    },
    {
     "name": "stdout",
     "output_type": "stream",
     "text": [
      "Time Used：0:00:51.102627\n",
      "iterations 0，cost: 0.701704\n",
      "iterations 500，cost: 0.633972\n",
      "iterations 1000，cost: 0.207720\n",
      "iterations 1500，cost: 0.108019\n",
      "iterations 2000，cost: 0.066536\n",
      "iterations 2500，cost: 0.043498\n",
      "iterations 3000，cost: 0.030094\n",
      "iterations 3500，cost: 0.021945\n",
      "iterations 4000，cost: 0.016667\n",
      "iterations 4500，cost: 0.013103\n",
      "iterations 5000，cost: 0.010597\n",
      "iterations 5500，cost: 0.008762\n",
      "iterations 6000，cost: 0.007380\n",
      "iterations 6500，cost: 0.006316\n",
      "iterations 7000，cost: 0.005478\n",
      "iterations 7500，cost: 0.004807\n",
      "iterations 8000，cost: 0.004260\n",
      "iterations 8500，cost: 0.003808\n",
      "iterations 9000，cost: 0.003431\n",
      "iterations 9500，cost: 0.003112\n",
      "iterations 10000，cost: 0.002840\n",
      "iterations 10500，cost: 0.002606\n",
      "iterations 11000，cost: 0.002402\n",
      "iterations 11500，cost: 0.002225\n",
      "iterations 12000，cost: 0.002069\n",
      "iterations 12500，cost: 0.001931\n",
      "iterations 13000，cost: 0.001808\n",
      "iterations 13500，cost: 0.001698\n",
      "iterations 14000，cost: 0.001599\n",
      "iterations 14500，cost: 0.001509\n",
      "iterations 15000，cost: 0.001429\n",
      "iterations 15500，cost: 0.001355\n",
      "iterations 16000，cost: 0.001288\n",
      "iterations 16500，cost: 0.001226\n",
      "iterations 17000，cost: 0.001169\n",
      "iterations 17500，cost: 0.001117\n",
      "iterations 18000，cost: 0.001069\n",
      "iterations 18500，cost: 0.001024\n",
      "iterations 19000，cost: 0.000983\n",
      "iterations 19500，cost: 0.000944\n",
      "final cost = 0.000908\n"
     ]
    },
    {
     "data": {
      "image/png": "[encoded data removed]",
      "text/plain": [
       "<Figure size 432x288 with 1 Axes>"
      ]
     },
     "metadata": {
      "needs_background": "light"
     },
     "output_type": "display_data"
    },
    {
     "name": "stdout",
     "output_type": "stream",
     "text": [
      "Time Used：0:00:57.869821\n",
      "iterations 0，cost: 0.701704\n",
      "iterations 500，cost: 0.368118\n",
      "iterations 1000，cost: 0.264653\n",
      "iterations 1500，cost: 0.207378\n",
      "iterations 2000，cost: 0.167060\n",
      "iterations 2500，cost: 0.135080\n",
      "iterations 3000，cost: 0.108870\n",
      "iterations 3500，cost: 0.087388\n",
      "iterations 4000，cost: 0.070042\n",
      "iterations 4500，cost: 0.056478\n",
      "iterations 5000，cost: 0.045872\n",
      "iterations 5500，cost: 0.037696\n",
      "iterations 6000，cost: 0.031356\n",
      "iterations 6500，cost: 0.026396\n",
      "iterations 7000，cost: 0.022478\n",
      "iterations 7500，cost: 0.019350\n",
      "iterations 8000，cost: 0.016825\n",
      "iterations 8500，cost: 0.014765\n",
      "iterations 9000，cost: 0.013065\n",
      "iterations 9500，cost: 0.011646\n",
      "iterations 10000，cost: 0.010452\n",
      "iterations 10500，cost: 0.009439\n",
      "iterations 11000，cost: 0.008572\n",
      "iterations 11500，cost: 0.007826\n",
      "iterations 12000，cost: 0.007179\n",
      "iterations 12500，cost: 0.006615\n",
      "iterations 13000，cost: 0.006119\n",
      "iterations 13500，cost: 0.005681\n",
      "iterations 14000，cost: 0.005292\n",
      "iterations 14500，cost: 0.004945\n",
      "iterations 15000，cost: 0.004634\n",
      "iterations 15500，cost: 0.004355\n",
      "iterations 16000，cost: 0.004102\n",
      "iterations 16500，cost: 0.003873\n",
      "iterations 17000，cost: 0.003665\n",
      "iterations 17500，cost: 0.003474\n",
      "iterations 18000，cost: 0.003300\n",
      "iterations 18500，cost: 0.003141\n",
      "iterations 19000，cost: 0.002995\n",
      "iterations 19500，cost: 0.002859\n",
      "final cost = 0.002735\n"
     ]
    },
    {
     "data": {
      "image/png": "[encoded data removed]",
      "text/plain": [
       "<Figure size 432x288 with 1 Axes>"
      ]
     },
     "metadata": {
      "needs_background": "light"
     },
     "output_type": "display_data"
    },
    {
     "name": "stdout",
     "output_type": "stream",
     "text": [
      "Time Used：0:00:54.102015\n",
      "iterations 0，cost: 0.701704\n",
      "iterations 500，cost: 0.387127\n",
      "iterations 1000，cost: 0.305204\n",
      "iterations 1500，cost: 0.255988\n",
      "iterations 2000，cost: 0.220183\n",
      "iterations 2500，cost: 0.193123\n",
      "iterations 3000，cost: 0.170976\n",
      "iterations 3500，cost: 0.151968\n",
      "iterations 4000，cost: 0.135605\n",
      "iterations 4500，cost: 0.121217\n",
      "iterations 5000，cost: 0.108497\n",
      "iterations 5500，cost: 0.097227\n",
      "iterations 6000，cost: 0.087215\n",
      "iterations 6500，cost: 0.078322\n",
      "iterations 7000，cost: 0.070377\n",
      "iterations 7500，cost: 0.063327\n",
      "iterations 8000，cost: 0.057075\n",
      "iterations 8500，cost: 0.051535\n",
      "iterations 9000，cost: 0.046659\n",
      "iterations 9500，cost: 0.042341\n",
      "iterations 10000，cost: 0.038531\n",
      "iterations 10500，cost: 0.035166\n",
      "iterations 11000，cost: 0.032187\n",
      "iterations 11500，cost: 0.029553\n",
      "iterations 12000，cost: 0.027208\n",
      "iterations 12500，cost: 0.025119\n",
      "iterations 13000，cost: 0.023256\n",
      "iterations 13500，cost: 0.021592\n",
      "iterations 14000，cost: 0.020103\n",
      "iterations 14500，cost: 0.018759\n",
      "iterations 15000，cost: 0.017546\n",
      "iterations 15500，cost: 0.016445\n",
      "iterations 16000，cost: 0.015447\n",
      "iterations 16500，cost: 0.014539\n",
      "iterations 17000，cost: 0.013709\n",
      "iterations 17500，cost: 0.012951\n",
      "iterations 18000，cost: 0.012255\n",
      "iterations 18500，cost: 0.011617\n",
      "iterations 19000，cost: 0.011028\n",
      "iterations 19500，cost: 0.010486\n",
      "final cost = 0.009985\n"
     ]
    },
    {
     "data": {
      "image/png": "[encoded data removed]",
      "text/plain": [
       "<Figure size 432x288 with 1 Axes>"
      ]
     },
     "metadata": {
      "needs_background": "light"
     },
     "output_type": "display_data"
    },
    {
     "name": "stdout",
     "output_type": "stream",
     "text": [
      "Time Used：0:00:52.210454\n"
     ]
    }
   ],
   "source": [
    "layers_dims = [14700, 8, 3, 1]\n",
    "\n",
    "time1 = datetime.datetime.now()\n",
    "parameters, costs = L_layer_model(train_x, train_y, layers_dims, learning_rate = 0.0100, num_iterations = 20000, print_cost = True)\n",
    "time2 = datetime.datetime.now()\n",
    "original_costs = np.zeros(np.squeeze(costs).shape)\n",
    "original_costs = np.column_stack((original_costs, costs))\n",
    "print(\"Time Used：\" + str(time2 - time1))\n",
    "\n",
    "time1 = datetime.datetime.now()\n",
    "parameters, costs = L_layer_model(train_x, train_y, layers_dims, learning_rate = 0.0060, num_iterations = 20000, print_cost = True)\n",
    "time2 = datetime.datetime.now()\n",
    "original_costs = np.column_stack((original_costs, costs))\n",
    "print(\"Time Used：\" + str(time2 - time1))\n",
    "\n",
    "time1 = datetime.datetime.now()\n",
    "parameters, costs = L_layer_model(train_x, train_y, layers_dims, learning_rate = 0.0040, num_iterations = 20000, print_cost = True)\n",
    "time2 = datetime.datetime.now()\n",
    "original_costs = np.column_stack((original_costs, costs))\n",
    "print(\"Time Used：\" + str(time2 - time1))\n",
    "\n",
    "time1 = datetime.datetime.now()\n",
    "parameters, costs = L_layer_model(train_x, train_y, layers_dims, learning_rate = 0.0020, num_iterations = 20000, print_cost = True)\n",
    "time2 = datetime.datetime.now()\n",
    "original_costs = np.column_stack((original_costs, costs))\n",
    "print(\"Time Used：\" + str(time2 - time1))\n",
    "\n",
    "time1 = datetime.datetime.now()\n",
    "parameters, costs = L_layer_model(train_x, train_y, layers_dims, learning_rate = 0.0010, num_iterations = 20000, print_cost = True)\n",
    "time2 = datetime.datetime.now()\n",
    "original_costs = np.column_stack((original_costs, costs))\n",
    "print(\"Time Used：\" + str(time2 - time1))\n"
   ]
  },
  {
   "cell_type": "code",
   "execution_count": null,
   "id": "61927e6d",
   "metadata": {},
   "outputs": [],
   "source": [
    "def predict(X, y, parameters):\n",
    "    m = X.shape[1]\n",
    "    n = len(parameters) // 2\n",
    "    p = np.zeros((1, m))\n",
    "    \n",
    "    probas, caches = L_model_forward(X, parameters)\n",
    "    \n",
    "    for i in range(probas.shape[1]):\n",
    "        print(\"Number%i, predictive value: %f\" %(i + 1, probas[0,i]))\n",
    "        if probas[0,i] > 0.5:\n",
    "            p[0, i] = 1\n",
    "        else:\n",
    "            p[0, i] = 0\n",
    "                \n",
    "    print(\"Accuracy rate :\" + str(np.sum(p == y) * 100 / (1.0 * m)))\n",
    "    \n",
    "    return p"
   ]
  },
  {
   "cell_type": "code",
   "execution_count": null,
   "id": "d0ef7200",
   "metadata": {
    "scrolled": true
   },
   "outputs": [],
   "source": [
    "pred_train = predict(train_x, train_y, parameters)"
   ]
  },
  {
   "cell_type": "code",
   "execution_count": null,
   "id": "d4da8d62",
   "metadata": {},
   "outputs": [],
   "source": [
    "#定义测试集集函数\n",
    "def buliding_test_set(T):\n",
    "    x_dataframe = pd.DataFrame()\n",
    "    y_test_ndarray = np.empty((1, T), dtype = int)\n",
    "    for i in range(1, T + 1):\n",
    "        data_dict = pd.read_excel('testing_dataset.xlsx', sheet_name = \"Sheet\" + str(i), nrows = 4900)\n",
    "        x1 = data_dict.iloc[:, 0]\n",
    "        x2 = data_dict.iloc[:, 1]\n",
    "        x3 = data_dict.iloc[:, 2]\n",
    "        x_data = pd.concat([x1, x2, x3])\n",
    "        x_dataframe = pd.concat([x_dataframe, x_data], axis = 1)\n",
    "        y = data_dict.iloc[0, 3]\n",
    "        y_test_ndarray[0,i - 1] = y\n",
    "\n",
    "    x_test_ndarray = x_dataframe.values\n",
    "\n",
    "    assert (x_test_ndarray.shape == (3 * data_dict.shape[0], T))\n",
    "    assert (y_test_ndarray.shape == (1, T))\n",
    "\n",
    "    return x_test_ndarray, y_test_ndarray"
   ]
  },
  {
   "cell_type": "code",
   "execution_count": null,
   "id": "385ae1cf",
   "metadata": {},
   "outputs": [],
   "source": [
    "#Testing dataset\n",
    "T = 8\n",
    "x_test_ndarray, y_test_ndarray = buliding_test_set(T)\n",
    "print(\"Testing dataset dimension\" + str(x_test_ndarray.shape))\n",
    "\n",
    "#Normalization\n",
    "x_test = x_test_ndarray / np.max(x_test_ndarray)\n",
    "y_test = y_test_ndarray"
   ]
  },
  {
   "cell_type": "code",
   "execution_count": null,
   "id": "735dc9fa",
   "metadata": {},
   "outputs": [],
   "source": [
    "time1 = datetime.datetime.now()\n",
    "pred_test = predict(x_test, y_test, parameters)\n",
    "time.sleep(3)\n",
    "time2 = datetime.datetime.now()\n",
    "print(time2 - time1)"
   ]
  },
  {
   "cell_type": "code",
   "execution_count": null,
   "id": "0382ffe0",
   "metadata": {},
   "outputs": [],
   "source": []
  }
 ],
 "metadata": {
  "kernelspec": {
   "display_name": "Python 3 (ipykernel)",
   "language": "python",
   "name": "python3"
  },
  "language_info": {
   "codemirror_mode": {
    "name": "ipython",
    "version": 3
   },
   "file_extension": ".py",
   "mimetype": "text/x-python",
   "name": "python",
   "nbconvert_exporter": "python",
   "pygments_lexer": "ipython3",
   "version": "3.9.12"
  }
 },
 "nbformat": 4,
 "nbformat_minor": 5
}
